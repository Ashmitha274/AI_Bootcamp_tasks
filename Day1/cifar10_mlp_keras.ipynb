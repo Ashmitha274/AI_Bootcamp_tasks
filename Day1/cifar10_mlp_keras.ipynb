{
 "cells": [
  {
   "cell_type": "code",
   "execution_count": 5,
   "id": "cf16a58e",
   "metadata": {},
   "outputs": [
    {
     "name": "stdout",
     "output_type": "stream",
     "text": [
      "Requirement already satisfied: numpy in c:\\users\\ashmi\\appdata\\local\\programs\\python\\python310\\lib\\site-packages (2.2.6)\n"
     ]
    }
   ],
   "source": [
    "\n",
    "#TASK - 1.Give input image to model n it ahould predict it\n",
    "#2.improve accuracy\n",
    "#3.Accuracy val accuracy plots , Loss plots\n",
    "#Experiment with depths\n",
    "!pip install numpy"
   ]
  },
  {
   "cell_type": "code",
   "execution_count": 6,
   "id": "5ba7b95e",
   "metadata": {},
   "outputs": [
    {
     "name": "stdout",
     "output_type": "stream",
     "text": [
      "Requirement already satisfied: keras in c:\\users\\ashmi\\appdata\\local\\programs\\python\\python310\\lib\\site-packages (3.12.0)\n",
      "Requirement already satisfied: tensorflow in c:\\users\\ashmi\\appdata\\local\\programs\\python\\python310\\lib\\site-packages (2.20.0)\n",
      "Requirement already satisfied: absl-py in c:\\users\\ashmi\\appdata\\local\\programs\\python\\python310\\lib\\site-packages (from keras) (2.3.1)\n",
      "Requirement already satisfied: numpy in c:\\users\\ashmi\\appdata\\local\\programs\\python\\python310\\lib\\site-packages (from keras) (2.2.6)\n",
      "Requirement already satisfied: rich in c:\\users\\ashmi\\appdata\\local\\programs\\python\\python310\\lib\\site-packages (from keras) (14.2.0)\n",
      "Requirement already satisfied: namex in c:\\users\\ashmi\\appdata\\local\\programs\\python\\python310\\lib\\site-packages (from keras) (0.1.0)\n",
      "Requirement already satisfied: h5py in c:\\users\\ashmi\\appdata\\local\\programs\\python\\python310\\lib\\site-packages (from keras) (3.15.1)\n",
      "Requirement already satisfied: optree in c:\\users\\ashmi\\appdata\\local\\programs\\python\\python310\\lib\\site-packages (from keras) (0.17.0)\n",
      "Requirement already satisfied: ml-dtypes in c:\\users\\ashmi\\appdata\\local\\programs\\python\\python310\\lib\\site-packages (from keras) (0.5.3)\n",
      "Requirement already satisfied: packaging in c:\\users\\ashmi\\appdata\\roaming\\python\\python310\\site-packages (from keras) (25.0)\n",
      "Requirement already satisfied: astunparse>=1.6.0 in c:\\users\\ashmi\\appdata\\local\\programs\\python\\python310\\lib\\site-packages (from tensorflow) (1.6.3)\n",
      "Requirement already satisfied: flatbuffers>=24.3.25 in c:\\users\\ashmi\\appdata\\local\\programs\\python\\python310\\lib\\site-packages (from tensorflow) (25.9.23)\n",
      "Requirement already satisfied: gast!=0.5.0,!=0.5.1,!=0.5.2,>=0.2.1 in c:\\users\\ashmi\\appdata\\local\\programs\\python\\python310\\lib\\site-packages (from tensorflow) (0.6.0)\n",
      "Requirement already satisfied: google_pasta>=0.1.1 in c:\\users\\ashmi\\appdata\\local\\programs\\python\\python310\\lib\\site-packages (from tensorflow) (0.2.0)\n",
      "Requirement already satisfied: libclang>=13.0.0 in c:\\users\\ashmi\\appdata\\local\\programs\\python\\python310\\lib\\site-packages (from tensorflow) (18.1.1)\n",
      "Requirement already satisfied: opt_einsum>=2.3.2 in c:\\users\\ashmi\\appdata\\local\\programs\\python\\python310\\lib\\site-packages (from tensorflow) (3.4.0)\n",
      "Requirement already satisfied: protobuf>=5.28.0 in c:\\users\\ashmi\\appdata\\local\\programs\\python\\python310\\lib\\site-packages (from tensorflow) (6.33.0)\n",
      "Requirement already satisfied: requests<3,>=2.21.0 in c:\\users\\ashmi\\appdata\\local\\programs\\python\\python310\\lib\\site-packages (from tensorflow) (2.32.5)\n",
      "Requirement already satisfied: setuptools in c:\\users\\ashmi\\appdata\\local\\programs\\python\\python310\\lib\\site-packages (from tensorflow) (80.9.0)\n",
      "Requirement already satisfied: six>=1.12.0 in c:\\users\\ashmi\\appdata\\roaming\\python\\python310\\site-packages (from tensorflow) (1.17.0)\n",
      "Requirement already satisfied: termcolor>=1.1.0 in c:\\users\\ashmi\\appdata\\local\\programs\\python\\python310\\lib\\site-packages (from tensorflow) (3.2.0)\n",
      "Requirement already satisfied: typing_extensions>=3.6.6 in c:\\users\\ashmi\\appdata\\roaming\\python\\python310\\site-packages (from tensorflow) (4.15.0)\n",
      "Requirement already satisfied: wrapt>=1.11.0 in c:\\users\\ashmi\\appdata\\local\\programs\\python\\python310\\lib\\site-packages (from tensorflow) (2.0.0)\n",
      "Requirement already satisfied: grpcio<2.0,>=1.24.3 in c:\\users\\ashmi\\appdata\\local\\programs\\python\\python310\\lib\\site-packages (from tensorflow) (1.76.0)\n",
      "Requirement already satisfied: tensorboard~=2.20.0 in c:\\users\\ashmi\\appdata\\local\\programs\\python\\python310\\lib\\site-packages (from tensorflow) (2.20.0)\n",
      "Requirement already satisfied: charset_normalizer<4,>=2 in c:\\users\\ashmi\\appdata\\local\\programs\\python\\python310\\lib\\site-packages (from requests<3,>=2.21.0->tensorflow) (3.4.4)\n",
      "Requirement already satisfied: idna<4,>=2.5 in c:\\users\\ashmi\\appdata\\local\\programs\\python\\python310\\lib\\site-packages (from requests<3,>=2.21.0->tensorflow) (3.11)\n",
      "Requirement already satisfied: urllib3<3,>=1.21.1 in c:\\users\\ashmi\\appdata\\local\\programs\\python\\python310\\lib\\site-packages (from requests<3,>=2.21.0->tensorflow) (2.5.0)\n",
      "Requirement already satisfied: certifi>=2017.4.17 in c:\\users\\ashmi\\appdata\\local\\programs\\python\\python310\\lib\\site-packages (from requests<3,>=2.21.0->tensorflow) (2025.10.5)\n",
      "Requirement already satisfied: markdown>=2.6.8 in c:\\users\\ashmi\\appdata\\local\\programs\\python\\python310\\lib\\site-packages (from tensorboard~=2.20.0->tensorflow) (3.9)\n",
      "Requirement already satisfied: pillow in c:\\users\\ashmi\\appdata\\local\\programs\\python\\python310\\lib\\site-packages (from tensorboard~=2.20.0->tensorflow) (12.0.0)\n",
      "Requirement already satisfied: tensorboard-data-server<0.8.0,>=0.7.0 in c:\\users\\ashmi\\appdata\\local\\programs\\python\\python310\\lib\\site-packages (from tensorboard~=2.20.0->tensorflow) (0.7.2)\n",
      "Requirement already satisfied: werkzeug>=1.0.1 in c:\\users\\ashmi\\appdata\\local\\programs\\python\\python310\\lib\\site-packages (from tensorboard~=2.20.0->tensorflow) (3.1.3)\n",
      "Requirement already satisfied: wheel<1.0,>=0.23.0 in c:\\users\\ashmi\\appdata\\local\\programs\\python\\python310\\lib\\site-packages (from astunparse>=1.6.0->tensorflow) (0.45.1)\n",
      "Requirement already satisfied: MarkupSafe>=2.1.1 in c:\\users\\ashmi\\appdata\\local\\programs\\python\\python310\\lib\\site-packages (from werkzeug>=1.0.1->tensorboard~=2.20.0->tensorflow) (3.0.3)\n",
      "Requirement already satisfied: markdown-it-py>=2.2.0 in c:\\users\\ashmi\\appdata\\local\\programs\\python\\python310\\lib\\site-packages (from rich->keras) (4.0.0)\n",
      "Requirement already satisfied: pygments<3.0.0,>=2.13.0 in c:\\users\\ashmi\\appdata\\roaming\\python\\python310\\site-packages (from rich->keras) (2.19.2)\n",
      "Requirement already satisfied: mdurl~=0.1 in c:\\users\\ashmi\\appdata\\local\\programs\\python\\python310\\lib\\site-packages (from markdown-it-py>=2.2.0->rich->keras) (0.1.2)\n"
     ]
    }
   ],
   "source": [
    "!pip install keras tensorflow\n"
   ]
  },
  {
   "cell_type": "code",
   "execution_count": 7,
   "id": "17518986",
   "metadata": {},
   "outputs": [
    {
     "name": "stdout",
     "output_type": "stream",
     "text": [
      "Requirement already satisfied: matplotlib in c:\\users\\ashmi\\appdata\\local\\programs\\python\\python310\\lib\\site-packages (3.10.7)\n",
      "Requirement already satisfied: contourpy>=1.0.1 in c:\\users\\ashmi\\appdata\\local\\programs\\python\\python310\\lib\\site-packages (from matplotlib) (1.3.2)\n",
      "Requirement already satisfied: cycler>=0.10 in c:\\users\\ashmi\\appdata\\local\\programs\\python\\python310\\lib\\site-packages (from matplotlib) (0.12.1)\n",
      "Requirement already satisfied: fonttools>=4.22.0 in c:\\users\\ashmi\\appdata\\local\\programs\\python\\python310\\lib\\site-packages (from matplotlib) (4.60.1)\n",
      "Requirement already satisfied: kiwisolver>=1.3.1 in c:\\users\\ashmi\\appdata\\local\\programs\\python\\python310\\lib\\site-packages (from matplotlib) (1.4.9)\n",
      "Requirement already satisfied: numpy>=1.23 in c:\\users\\ashmi\\appdata\\local\\programs\\python\\python310\\lib\\site-packages (from matplotlib) (2.2.6)\n",
      "Requirement already satisfied: packaging>=20.0 in c:\\users\\ashmi\\appdata\\roaming\\python\\python310\\site-packages (from matplotlib) (25.0)\n",
      "Requirement already satisfied: pillow>=8 in c:\\users\\ashmi\\appdata\\local\\programs\\python\\python310\\lib\\site-packages (from matplotlib) (12.0.0)\n",
      "Requirement already satisfied: pyparsing>=3 in c:\\users\\ashmi\\appdata\\local\\programs\\python\\python310\\lib\\site-packages (from matplotlib) (3.2.5)\n",
      "Requirement already satisfied: python-dateutil>=2.7 in c:\\users\\ashmi\\appdata\\roaming\\python\\python310\\site-packages (from matplotlib) (2.9.0.post0)\n",
      "Requirement already satisfied: six>=1.5 in c:\\users\\ashmi\\appdata\\roaming\\python\\python310\\site-packages (from python-dateutil>=2.7->matplotlib) (1.17.0)\n"
     ]
    }
   ],
   "source": [
    "!pip install matplotlib"
   ]
  },
  {
   "cell_type": "code",
   "execution_count": 8,
   "id": "62bdcb60",
   "metadata": {},
   "outputs": [],
   "source": [
    "from keras.models import Sequential\n",
    "from keras.layers import Dense,Flatten\n",
    "from keras.datasets import cifar10\n",
    "from keras.utils import to_categorical\n",
    "from keras.optimizers import Adam\n",
    "import matplotlib.pyplot as plt\n",
    "\n"
   ]
  },
  {
   "cell_type": "code",
   "execution_count": 9,
   "id": "dd65e9cd",
   "metadata": {},
   "outputs": [],
   "source": [
    "(x_train,y_train),(x_test,y_test) = cifar10.load_data()"
   ]
  },
  {
   "cell_type": "code",
   "execution_count": null,
   "id": "6b4a5342",
   "metadata": {},
   "outputs": [],
   "source": []
  },
  {
   "cell_type": "markdown",
   "id": "86a251b8",
   "metadata": {},
   "source": [
    "Normalize "
   ]
  },
  {
   "cell_type": "code",
   "execution_count": 10,
   "id": "ebaf24cb",
   "metadata": {},
   "outputs": [],
   "source": [
    "x_train = x_train.astype('float32')/255.0\n",
    "x_test  = x_test.astype('float32')/255.0\n"
   ]
  },
  {
   "cell_type": "markdown",
   "id": "c7b7d12b",
   "metadata": {},
   "source": [
    "to_categorical"
   ]
  },
  {
   "cell_type": "code",
   "execution_count": 11,
   "id": "fb95b577",
   "metadata": {},
   "outputs": [
    {
     "name": "stdout",
     "output_type": "stream",
     "text": [
      "before : label is :[6]\n",
      "after : label is :[0. 0. 0. 0. 0. 0. 1. 0. 0. 0.]\n",
      "after : label is :[0. 0. 0. 0. 0. 0. 0. 0. 1. 0.]\n"
     ]
    }
   ],
   "source": [
    "print(f\"before : label is :{y_train[0]}\")\n",
    "y_train = to_categorical(y_train)\n",
    "print(f\"after : label is :{y_train[0]}\")\n",
    "print(f\"after : label is :{y_train[100]}\")\n",
    "y_test = to_categorical(y_test)"
   ]
  },
  {
   "cell_type": "markdown",
   "id": "bc2c731c",
   "metadata": {},
   "source": [
    "Architecture"
   ]
  },
  {
   "cell_type": "code",
   "execution_count": 12,
   "id": "473f715a",
   "metadata": {},
   "outputs": [
    {
     "name": "stderr",
     "output_type": "stream",
     "text": [
      "c:\\Users\\ashmi\\AppData\\Local\\Programs\\Python\\Python310\\lib\\site-packages\\keras\\src\\layers\\reshaping\\flatten.py:37: UserWarning: Do not pass an `input_shape`/`input_dim` argument to a layer. When using Sequential models, prefer using an `Input(shape)` object as the first layer in the model instead.\n",
      "  super().__init__(**kwargs)\n"
     ]
    }
   ],
   "source": [
    "model = Sequential()\n",
    "model.add(Flatten(input_shape =(32,32,3)))\n",
    "model.add(Dense(128,'relu'))  #layer containg 128 neuron \n",
    "model.add(Dense(10,'softmax'))       #10 neurons last layer"
   ]
  },
  {
   "cell_type": "code",
   "execution_count": 13,
   "id": "eadc1c86",
   "metadata": {},
   "outputs": [],
   "source": [
    "#compile\n",
    "model.compile(optimizer=Adam(learning_rate=0.01),loss='categorical_crossentropy',metrics=['accuracy'])"
   ]
  },
  {
   "cell_type": "code",
   "execution_count": 14,
   "id": "30df2ea7",
   "metadata": {},
   "outputs": [
    {
     "name": "stdout",
     "output_type": "stream",
     "text": [
      "Epoch 1/10\n",
      "\u001b[1m625/625\u001b[0m \u001b[32m━━━━━━━━━━━━━━━━━━━━\u001b[0m\u001b[37m\u001b[0m \u001b[1m4s\u001b[0m 5ms/step - accuracy: 0.0997 - loss: 2.6823 - val_accuracy: 0.0997 - val_loss: 2.3036\n",
      "Epoch 2/10\n",
      "\u001b[1m625/625\u001b[0m \u001b[32m━━━━━━━━━━━━━━━━━━━━\u001b[0m\u001b[37m\u001b[0m \u001b[1m3s\u001b[0m 4ms/step - accuracy: 0.0975 - loss: 2.3037 - val_accuracy: 0.0952 - val_loss: 2.3045\n",
      "Epoch 3/10\n",
      "\u001b[1m625/625\u001b[0m \u001b[32m━━━━━━━━━━━━━━━━━━━━\u001b[0m\u001b[37m\u001b[0m \u001b[1m3s\u001b[0m 4ms/step - accuracy: 0.0993 - loss: 2.3036 - val_accuracy: 0.1014 - val_loss: 2.3036\n",
      "Epoch 4/10\n",
      "\u001b[1m625/625\u001b[0m \u001b[32m━━━━━━━━━━━━━━━━━━━━\u001b[0m\u001b[37m\u001b[0m \u001b[1m3s\u001b[0m 4ms/step - accuracy: 0.0976 - loss: 2.3037 - val_accuracy: 0.0980 - val_loss: 2.3032\n",
      "Epoch 5/10\n",
      "\u001b[1m625/625\u001b[0m \u001b[32m━━━━━━━━━━━━━━━━━━━━\u001b[0m\u001b[37m\u001b[0m \u001b[1m3s\u001b[0m 4ms/step - accuracy: 0.0993 - loss: 2.3035 - val_accuracy: 0.0980 - val_loss: 2.3036\n",
      "Epoch 6/10\n",
      "\u001b[1m625/625\u001b[0m \u001b[32m━━━━━━━━━━━━━━━━━━━━\u001b[0m\u001b[37m\u001b[0m \u001b[1m3s\u001b[0m 4ms/step - accuracy: 0.0997 - loss: 2.3036 - val_accuracy: 0.0977 - val_loss: 2.3031\n",
      "Epoch 7/10\n",
      "\u001b[1m625/625\u001b[0m \u001b[32m━━━━━━━━━━━━━━━━━━━━\u001b[0m\u001b[37m\u001b[0m \u001b[1m3s\u001b[0m 4ms/step - accuracy: 0.1005 - loss: 2.3035 - val_accuracy: 0.0997 - val_loss: 2.3035\n",
      "Epoch 8/10\n",
      "\u001b[1m625/625\u001b[0m \u001b[32m━━━━━━━━━━━━━━━━━━━━\u001b[0m\u001b[37m\u001b[0m \u001b[1m3s\u001b[0m 4ms/step - accuracy: 0.0990 - loss: 2.3034 - val_accuracy: 0.0952 - val_loss: 2.3038\n",
      "Epoch 9/10\n",
      "\u001b[1m625/625\u001b[0m \u001b[32m━━━━━━━━━━━━━━━━━━━━\u001b[0m\u001b[37m\u001b[0m \u001b[1m3s\u001b[0m 4ms/step - accuracy: 0.0990 - loss: 2.3035 - val_accuracy: 0.0952 - val_loss: 2.3034\n",
      "Epoch 10/10\n",
      "\u001b[1m625/625\u001b[0m \u001b[32m━━━━━━━━━━━━━━━━━━━━\u001b[0m\u001b[37m\u001b[0m \u001b[1m3s\u001b[0m 4ms/step - accuracy: 0.0989 - loss: 2.3036 - val_accuracy: 0.0952 - val_loss: 2.3042\n"
     ]
    }
   ],
   "source": [
    "#Train\n",
    "result=model.fit(x_train,y_train,epochs=10,batch_size=64,validation_split=0.2) #64 images are sent each time"
   ]
  },
  {
   "cell_type": "code",
   "execution_count": 15,
   "id": "780f4a7f",
   "metadata": {},
   "outputs": [
    {
     "name": "stdout",
     "output_type": "stream",
     "text": [
      "\u001b[1m313/313\u001b[0m \u001b[32m━━━━━━━━━━━━━━━━━━━━\u001b[0m\u001b[37m\u001b[0m \u001b[1m0s\u001b[0m 1ms/step - accuracy: 0.1000 - loss: 2.3035\n",
      "test loss:2.3034725189208984\n",
      "test accuracy:0.10000000149011612\n",
      "dict_keys(['accuracy', 'loss', 'val_accuracy', 'val_loss'])\n",
      "dict_values([[0.09972500056028366, 0.09752500057220459, 0.09927500039339066, 0.09764999896287918, 0.09929999709129333, 0.09965000301599503, 0.10050000250339508, 0.09902500361204147, 0.0989999994635582, 0.09892500191926956], [2.682269811630249, 2.3037428855895996, 2.303565740585327, 2.3036575317382812, 2.303507089614868, 2.303622245788574, 2.303480386734009, 2.303400754928589, 2.303506851196289, 2.3036022186279297], [0.09969999641180038, 0.09520000219345093, 0.10140000283718109, 0.09799999743700027, 0.09799999743700027, 0.09769999980926514, 0.09969999641180038, 0.09520000219345093, 0.09520000219345093, 0.09520000219345093], [2.303579568862915, 2.3044588565826416, 2.303593397140503, 2.3032445907592773, 2.30364990234375, 2.3030967712402344, 2.303460121154785, 2.3038330078125, 2.303356170654297, 2.304182767868042]])\n",
      "{'accuracy': [0.09972500056028366, 0.09752500057220459, 0.09927500039339066, 0.09764999896287918, 0.09929999709129333, 0.09965000301599503, 0.10050000250339508, 0.09902500361204147, 0.0989999994635582, 0.09892500191926956], 'loss': [2.682269811630249, 2.3037428855895996, 2.303565740585327, 2.3036575317382812, 2.303507089614868, 2.303622245788574, 2.303480386734009, 2.303400754928589, 2.303506851196289, 2.3036022186279297], 'val_accuracy': [0.09969999641180038, 0.09520000219345093, 0.10140000283718109, 0.09799999743700027, 0.09799999743700027, 0.09769999980926514, 0.09969999641180038, 0.09520000219345093, 0.09520000219345093, 0.09520000219345093], 'val_loss': [2.303579568862915, 2.3044588565826416, 2.303593397140503, 2.3032445907592773, 2.30364990234375, 2.3030967712402344, 2.303460121154785, 2.3038330078125, 2.303356170654297, 2.304182767868042]}\n"
     ]
    }
   ],
   "source": [
    "#Evaluate\n",
    "loss,accuracy = model.evaluate(x_test,y_test)\n",
    "print(f\"test loss:{loss}\")\n",
    "print(f\"test accuracy:{accuracy}\")\n",
    "print(result.history.keys())\n",
    "print(result.history.values())\n",
    "print(result.history)"
   ]
  },
  {
   "cell_type": "code",
   "execution_count": 16,
   "id": "74db65c3",
   "metadata": {},
   "outputs": [
    {
     "data": {
      "image/png": "[encoded data removed]",
      "text/plain": [
       "<Figure size 640x480 with 1 Axes>"
      ]
     },
     "metadata": {},
     "output_type": "display_data"
    }
   ],
   "source": [
    "#visualization\n",
    "plt.plot(result.history['val_accuracy'],label=\"validation accuracy\",color=\"blue\")\n",
    "plt.plot(result.history['accuracy'],label=\"train accuracy\",color=\"green\")\n",
    "plt.title(\"Train_accuracy vs Val_accuracy\")\n",
    "plt.xlabel(\"Epochs\")\n",
    "plt.ylabel(\"Accuracy\")\n",
    "plt.legend()\n",
    "plt.show()"
   ]
  },
  {
   "cell_type": "code",
   "execution_count": 17,
   "id": "6db94f3d",
   "metadata": {},
   "outputs": [
    {
     "data": {
      "image/png": "[encoded data removed]",
      "text/plain": [
       "<Figure size 640x480 with 1 Axes>"
      ]
     },
     "metadata": {},
     "output_type": "display_data"
    }
   ],
   "source": [
    "plt.plot(result.history['val_loss'],label=\"validation loss\",color=\"blue\")\n",
    "plt.plot(result.history['loss'],label=\"train loss\",color=\"green\")\n",
    "plt.title(\"Train_loss vs Val_loss\")\n",
    "plt.xlabel(\"Epochs\")\n",
    "plt.ylabel(\"loss\")\n",
    "plt.legend()\n",
    "plt.show()"
   ]
  },
  {
   "cell_type": "markdown",
   "id": "b39a0894",
   "metadata": {},
   "source": [
    "Experiment with depth(number of hidden layers)"
   ]
  },
  {
   "cell_type": "code",
   "execution_count": 18,
   "id": "304e8865",
   "metadata": {},
   "outputs": [
    {
     "name": "stdout",
     "output_type": "stream",
     "text": [
      "uint8\n",
      "(50000, 32, 32, 3)\n",
      "(10000, 1)\n",
      "[[[ 59  62  63]\n",
      "  [ 43  46  45]\n",
      "  [ 50  48  43]\n",
      "  ...\n",
      "  [158 132 108]\n",
      "  [152 125 102]\n",
      "  [148 124 103]]\n",
      "\n",
      " [[ 16  20  20]\n",
      "  [  0   0   0]\n",
      "  [ 18   8   0]\n",
      "  ...\n",
      "  [123  88  55]\n",
      "  [119  83  50]\n",
      "  [122  87  57]]\n",
      "\n",
      " [[ 25  24  21]\n",
      "  [ 16   7   0]\n",
      "  [ 49  27   8]\n",
      "  ...\n",
      "  [118  84  50]\n",
      "  [120  84  50]\n",
      "  [109  73  42]]\n",
      "\n",
      " ...\n",
      "\n",
      " [[208 170  96]\n",
      "  [201 153  34]\n",
      "  [198 161  26]\n",
      "  ...\n",
      "  [160 133  70]\n",
      "  [ 56  31   7]\n",
      "  [ 53  34  20]]\n",
      "\n",
      " [[180 139  96]\n",
      "  [173 123  42]\n",
      "  [186 144  30]\n",
      "  ...\n",
      "  [184 148  94]\n",
      "  [ 97  62  34]\n",
      "  [ 83  53  34]]\n",
      "\n",
      " [[177 144 116]\n",
      "  [168 129  94]\n",
      "  [179 142  87]\n",
      "  ...\n",
      "  [216 184 140]\n",
      "  [151 118  84]\n",
      "  [123  92  72]]]\n",
      "***************************\n",
      "before : label is :[6]\n",
      "after : label is :[0. 0. 0. 0. 0. 0. 1. 0. 0. 0.]\n",
      "after : label is :[0. 0. 0. 0. 0. 0. 0. 0. 1. 0.]\n"
     ]
    }
   ],
   "source": [
    "#import libraries\n",
    "import numpy as np\n",
    "from keras.models import Sequential\n",
    "from keras.layers import Dense,Flatten\n",
    "from keras.datasets import cifar10\n",
    "from keras.optimizers import Adam\n",
    "from keras.utils import to_categorical\n",
    "import matplotlib.pyplot as plt\n",
    "\n",
    "#Load the Data\n",
    "(x_train,y_train),(x_test,y_test)=cifar10.load_data()\n",
    "print(x_train.dtype)\n",
    "print(x_train.shape)\n",
    "print(y_test.shape)\n",
    "print(x_train[0])\n",
    "\n",
    "#plt.imshow(x_train[0])\n",
    "#plt.show()\n",
    "print(\"***************************\")\n",
    "#print(f\"label is :{y_train[0]}\")\n",
    "\n",
    "#normalize\n",
    "x_train = x_train.astype('float32')/255.0\n",
    "x_test  = x_test.astype('float32')/255.0\n",
    "\n",
    "#to_categorical\n",
    "print(f\"before : label is :{y_train[0]}\")\n",
    "y_train = to_categorical(y_train)\n",
    "print(f\"after : label is :{y_train[0]}\")\n",
    "print(f\"after : label is :{y_train[100]}\")\n",
    "y_test = to_categorical(y_test)\n",
    "\n"
   ]
  },
  {
   "cell_type": "code",
   "execution_count": 19,
   "id": "920f53f1",
   "metadata": {},
   "outputs": [],
   "source": [
    "model = Sequential()\n",
    "model.add(Flatten(input_shape =(32,32,3)))\n",
    "model.add(Dense(128,'relu'))  #layer containg 128 neuron \n",
    "model.add(Dense(10,'softmax'))       #10 neurons last layer\n",
    "model.compile(optimizer=Adam(learning_rate=0.01),loss='categorical_crossentropy',metrics=['accuracy'])"
   ]
  },
  {
   "cell_type": "code",
   "execution_count": 20,
   "id": "f52a72f1",
   "metadata": {},
   "outputs": [
    {
     "name": "stdout",
     "output_type": "stream",
     "text": [
      "Epoch 1/10\n",
      "\u001b[1m625/625\u001b[0m \u001b[32m━━━━━━━━━━━━━━━━━━━━\u001b[0m\u001b[37m\u001b[0m \u001b[1m3s\u001b[0m 5ms/step - accuracy: 0.0987 - loss: 2.6180 - val_accuracy: 0.1016 - val_loss: 2.3030\n",
      "Epoch 2/10\n",
      "\u001b[1m625/625\u001b[0m \u001b[32m━━━━━━━━━━━━━━━━━━━━\u001b[0m\u001b[37m\u001b[0m \u001b[1m3s\u001b[0m 5ms/step - accuracy: 0.1012 - loss: 2.3032 - val_accuracy: 0.0977 - val_loss: 2.3039\n",
      "Epoch 3/10\n",
      "\u001b[1m625/625\u001b[0m \u001b[32m━━━━━━━━━━━━━━━━━━━━\u001b[0m\u001b[37m\u001b[0m \u001b[1m3s\u001b[0m 6ms/step - accuracy: 0.0960 - loss: 2.3036 - val_accuracy: 0.1016 - val_loss: 2.3034\n",
      "Epoch 4/10\n",
      "\u001b[1m625/625\u001b[0m \u001b[32m━━━━━━━━━━━━━━━━━━━━\u001b[0m\u001b[37m\u001b[0m \u001b[1m3s\u001b[0m 5ms/step - accuracy: 0.0998 - loss: 2.3035 - val_accuracy: 0.0977 - val_loss: 2.3036\n",
      "Epoch 5/10\n",
      "\u001b[1m625/625\u001b[0m \u001b[32m━━━━━━━━━━━━━━━━━━━━\u001b[0m\u001b[37m\u001b[0m \u001b[1m3s\u001b[0m 6ms/step - accuracy: 0.1011 - loss: 2.3035 - val_accuracy: 0.0980 - val_loss: 2.3035\n",
      "Epoch 6/10\n",
      "\u001b[1m625/625\u001b[0m \u001b[32m━━━━━━━━━━━━━━━━━━━━\u001b[0m\u001b[37m\u001b[0m \u001b[1m3s\u001b[0m 5ms/step - accuracy: 0.0977 - loss: 2.3035 - val_accuracy: 0.1014 - val_loss: 2.3038\n",
      "Epoch 7/10\n",
      "\u001b[1m625/625\u001b[0m \u001b[32m━━━━━━━━━━━━━━━━━━━━\u001b[0m\u001b[37m\u001b[0m \u001b[1m3s\u001b[0m 5ms/step - accuracy: 0.0981 - loss: 2.3036 - val_accuracy: 0.1014 - val_loss: 2.3034\n",
      "Epoch 8/10\n",
      "\u001b[1m625/625\u001b[0m \u001b[32m━━━━━━━━━━━━━━━━━━━━\u001b[0m\u001b[37m\u001b[0m \u001b[1m3s\u001b[0m 5ms/step - accuracy: 0.1038 - loss: 2.3032 - val_accuracy: 0.0952 - val_loss: 2.3043\n",
      "Epoch 9/10\n",
      "\u001b[1m625/625\u001b[0m \u001b[32m━━━━━━━━━━━━━━━━━━━━\u001b[0m\u001b[37m\u001b[0m \u001b[1m3s\u001b[0m 5ms/step - accuracy: 0.1015 - loss: 2.3034 - val_accuracy: 0.0952 - val_loss: 2.3030\n",
      "Epoch 10/10\n",
      "\u001b[1m625/625\u001b[0m \u001b[32m━━━━━━━━━━━━━━━━━━━━\u001b[0m\u001b[37m\u001b[0m \u001b[1m3s\u001b[0m 5ms/step - accuracy: 0.0996 - loss: 2.3038 - val_accuracy: 0.0977 - val_loss: 2.3041\n"
     ]
    }
   ],
   "source": [
    "#Train\n",
    "result=model.fit(x_train,y_train,epochs=10,batch_size=64,validation_split=0.2) #64 images are sent each time"
   ]
  },
  {
   "cell_type": "code",
   "execution_count": 21,
   "id": "7dcf26ca",
   "metadata": {},
   "outputs": [
    {
     "name": "stdout",
     "output_type": "stream",
     "text": [
      "\u001b[1m313/313\u001b[0m \u001b[32m━━━━━━━━━━━━━━━━━━━━\u001b[0m\u001b[37m\u001b[0m \u001b[1m1s\u001b[0m 2ms/step - accuracy: 0.1000 - loss: 2.3034\n",
      "test loss:2.303417682647705\n",
      "test accuracy:0.10000000149011612\n"
     ]
    }
   ],
   "source": [
    "loss,accuracy = model.evaluate(x_test,y_test)\n",
    "print(f\"test loss:{loss}\")\n",
    "print(f\"test accuracy:{accuracy}\")"
   ]
  },
  {
   "cell_type": "code",
   "execution_count": 22,
   "id": "b5178a37",
   "metadata": {},
   "outputs": [
    {
     "name": "stdout",
     "output_type": "stream",
     "text": [
      "Epoch 1/10\n",
      "\u001b[1m625/625\u001b[0m \u001b[32m━━━━━━━━━━━━━━━━━━━━\u001b[0m\u001b[37m\u001b[0m \u001b[1m4s\u001b[0m 5ms/step - accuracy: 0.1971 - loss: 2.2116 - val_accuracy: 0.2180 - val_loss: 2.0025\n",
      "Epoch 2/10\n",
      "\u001b[1m625/625\u001b[0m \u001b[32m━━━━━━━━━━━━━━━━━━━━\u001b[0m\u001b[37m\u001b[0m \u001b[1m3s\u001b[0m 5ms/step - accuracy: 0.2287 - loss: 2.0052 - val_accuracy: 0.2475 - val_loss: 2.0029\n",
      "Epoch 3/10\n",
      "\u001b[1m625/625\u001b[0m \u001b[32m━━━━━━━━━━━━━━━━━━━━\u001b[0m\u001b[37m\u001b[0m \u001b[1m3s\u001b[0m 5ms/step - accuracy: 0.2330 - loss: 1.9966 - val_accuracy: 0.2386 - val_loss: 1.9963\n",
      "Epoch 4/10\n",
      "\u001b[1m625/625\u001b[0m \u001b[32m━━━━━━━━━━━━━━━━━━━━\u001b[0m\u001b[37m\u001b[0m \u001b[1m3s\u001b[0m 5ms/step - accuracy: 0.2354 - loss: 1.9897 - val_accuracy: 0.2289 - val_loss: 1.9923\n",
      "Epoch 5/10\n",
      "\u001b[1m625/625\u001b[0m \u001b[32m━━━━━━━━━━━━━━━━━━━━\u001b[0m\u001b[37m\u001b[0m \u001b[1m3s\u001b[0m 5ms/step - accuracy: 0.2340 - loss: 1.9899 - val_accuracy: 0.2425 - val_loss: 1.9986\n",
      "Epoch 6/10\n",
      "\u001b[1m625/625\u001b[0m \u001b[32m━━━━━━━━━━━━━━━━━━━━\u001b[0m\u001b[37m\u001b[0m \u001b[1m3s\u001b[0m 5ms/step - accuracy: 0.2401 - loss: 1.9777 - val_accuracy: 0.2446 - val_loss: 1.9781\n",
      "Epoch 7/10\n",
      "\u001b[1m625/625\u001b[0m \u001b[32m━━━━━━━━━━━━━━━━━━━━\u001b[0m\u001b[37m\u001b[0m \u001b[1m3s\u001b[0m 5ms/step - accuracy: 0.2350 - loss: 1.9918 - val_accuracy: 0.2165 - val_loss: 2.0817\n",
      "Epoch 8/10\n",
      "\u001b[1m625/625\u001b[0m \u001b[32m━━━━━━━━━━━━━━━━━━━━\u001b[0m\u001b[37m\u001b[0m \u001b[1m3s\u001b[0m 5ms/step - accuracy: 0.2442 - loss: 1.9715 - val_accuracy: 0.2315 - val_loss: 2.0029\n",
      "Epoch 9/10\n",
      "\u001b[1m625/625\u001b[0m \u001b[32m━━━━━━━━━━━━━━━━━━━━\u001b[0m\u001b[37m\u001b[0m \u001b[1m3s\u001b[0m 5ms/step - accuracy: 0.2451 - loss: 1.9759 - val_accuracy: 0.2293 - val_loss: 2.0029\n",
      "Epoch 10/10\n",
      "\u001b[1m625/625\u001b[0m \u001b[32m━━━━━━━━━━━━━━━━━━━━\u001b[0m\u001b[37m\u001b[0m \u001b[1m3s\u001b[0m 5ms/step - accuracy: 0.2391 - loss: 1.9798 - val_accuracy: 0.2386 - val_loss: 1.9947\n"
     ]
    }
   ],
   "source": [
    "model_3 = Sequential()\n",
    "model_3.add(Flatten(input_shape =(32,32,3)))\n",
    "model_3.add(Dense(128,'relu'))  #layer containg 128 neuron \n",
    "model_3.add(Dense(128,'relu'))\n",
    "model_3.add(Dense(128,'relu'))\n",
    "model_3.add(Dense(10,'softmax'))       #10 neurons last layer\n",
    "model_3.compile(optimizer=Adam(learning_rate=0.01),loss='categorical_crossentropy',metrics=['accuracy'])\n",
    "#Train\n",
    "result=model_3.fit(x_train,y_train,epochs=10,batch_size=64,validation_split=0.2) #64 images are sent each time"
   ]
  },
  {
   "cell_type": "code",
   "execution_count": 23,
   "id": "19029ead",
   "metadata": {},
   "outputs": [
    {
     "name": "stdout",
     "output_type": "stream",
     "text": [
      "\u001b[1m313/313\u001b[0m \u001b[32m━━━━━━━━━━━━━━━━━━━━\u001b[0m\u001b[37m\u001b[0m \u001b[1m0s\u001b[0m 1ms/step - accuracy: 0.2418 - loss: 1.9855\n",
      "test loss:1.985541820526123\n",
      "test accuracy:0.241799995303154\n"
     ]
    }
   ],
   "source": [
    "#Evaluate\n",
    "loss,accuracy = model_3.evaluate(x_test,y_test)\n",
    "print(f\"test loss:{loss}\")\n",
    "print(f\"test accuracy:{accuracy}\")\n"
   ]
  },
  {
   "cell_type": "code",
   "execution_count": 24,
   "id": "41cbbc5d",
   "metadata": {},
   "outputs": [
    {
     "name": "stdout",
     "output_type": "stream",
     "text": [
      "Epoch 1/10\n",
      "\u001b[1m625/625\u001b[0m \u001b[32m━━━━━━━━━━━━━━━━━━━━\u001b[0m\u001b[37m\u001b[0m \u001b[1m4s\u001b[0m 5ms/step - accuracy: 0.2276 - loss: 2.0771 - val_accuracy: 0.2750 - val_loss: 1.9438\n",
      "Epoch 2/10\n",
      "\u001b[1m625/625\u001b[0m \u001b[32m━━━━━━━━━━━━━━━━━━━━\u001b[0m\u001b[37m\u001b[0m \u001b[1m4s\u001b[0m 6ms/step - accuracy: 0.2757 - loss: 1.9191 - val_accuracy: 0.2930 - val_loss: 1.9018\n",
      "Epoch 3/10\n",
      "\u001b[1m625/625\u001b[0m \u001b[32m━━━━━━━━━━━━━━━━━━━━\u001b[0m\u001b[37m\u001b[0m \u001b[1m4s\u001b[0m 6ms/step - accuracy: 0.2979 - loss: 1.8761 - val_accuracy: 0.2910 - val_loss: 1.8780\n",
      "Epoch 4/10\n",
      "\u001b[1m625/625\u001b[0m \u001b[32m━━━━━━━━━━━━━━━━━━━━\u001b[0m\u001b[37m\u001b[0m \u001b[1m4s\u001b[0m 6ms/step - accuracy: 0.3027 - loss: 1.8574 - val_accuracy: 0.3058 - val_loss: 1.8507\n",
      "Epoch 5/10\n",
      "\u001b[1m625/625\u001b[0m \u001b[32m━━━━━━━━━━━━━━━━━━━━\u001b[0m\u001b[37m\u001b[0m \u001b[1m3s\u001b[0m 5ms/step - accuracy: 0.3067 - loss: 1.8389 - val_accuracy: 0.3100 - val_loss: 1.8855\n",
      "Epoch 6/10\n",
      "\u001b[1m625/625\u001b[0m \u001b[32m━━━━━━━━━━━━━━━━━━━━\u001b[0m\u001b[37m\u001b[0m \u001b[1m4s\u001b[0m 6ms/step - accuracy: 0.3169 - loss: 1.8265 - val_accuracy: 0.3090 - val_loss: 1.8465\n",
      "Epoch 7/10\n",
      "\u001b[1m625/625\u001b[0m \u001b[32m━━━━━━━━━━━━━━━━━━━━\u001b[0m\u001b[37m\u001b[0m \u001b[1m4s\u001b[0m 6ms/step - accuracy: 0.3194 - loss: 1.8229 - val_accuracy: 0.3210 - val_loss: 1.8202\n",
      "Epoch 8/10\n",
      "\u001b[1m625/625\u001b[0m \u001b[32m━━━━━━━━━━━━━━━━━━━━\u001b[0m\u001b[37m\u001b[0m \u001b[1m4s\u001b[0m 6ms/step - accuracy: 0.3111 - loss: 1.8357 - val_accuracy: 0.3208 - val_loss: 1.8446\n",
      "Epoch 9/10\n",
      "\u001b[1m625/625\u001b[0m \u001b[32m━━━━━━━━━━━━━━━━━━━━\u001b[0m\u001b[37m\u001b[0m \u001b[1m4s\u001b[0m 6ms/step - accuracy: 0.3223 - loss: 1.8221 - val_accuracy: 0.3133 - val_loss: 1.8325\n",
      "Epoch 10/10\n",
      "\u001b[1m625/625\u001b[0m \u001b[32m━━━━━━━━━━━━━━━━━━━━\u001b[0m\u001b[37m\u001b[0m \u001b[1m4s\u001b[0m 6ms/step - accuracy: 0.3233 - loss: 1.8085 - val_accuracy: 0.3127 - val_loss: 1.8606\n"
     ]
    }
   ],
   "source": [
    "model_5 = Sequential()\n",
    "model_5.add(Flatten(input_shape =(32,32,3)))\n",
    "model_5.add(Dense(128,'relu'))  #layer containg 128 neuron \n",
    "model_5.add(Dense(128,'relu'))\n",
    "model_5.add(Dense(128,'relu'))\n",
    "model_5.add(Dense(128,'relu'))\n",
    "model_5.add(Dense(128,'relu'))\n",
    "model_5.add(Dense(10,'softmax'))       #10 neurons last layer\n",
    "model_5.compile(optimizer=Adam(learning_rate=0.01),loss='categorical_crossentropy',metrics=['accuracy'])\n",
    "#Train\n",
    "result=model_5.fit(x_train,y_train,epochs=10,batch_size=64,validation_split=0.2) #64 images are sent each time"
   ]
  },
  {
   "cell_type": "code",
   "execution_count": 25,
   "id": "8108ca52",
   "metadata": {},
   "outputs": [
    {
     "name": "stdout",
     "output_type": "stream",
     "text": [
      "\u001b[1m313/313\u001b[0m \u001b[32m━━━━━━━━━━━━━━━━━━━━\u001b[0m\u001b[37m\u001b[0m \u001b[1m1s\u001b[0m 2ms/step - accuracy: 0.3123 - loss: 1.8392\n",
      "test loss:1.839195728302002\n",
      "test accuracy:0.3122999966144562\n"
     ]
    }
   ],
   "source": [
    "#Evaluate\n",
    "loss,accuracy = model_5.evaluate(x_test,y_test)\n",
    "print(f\"test loss:{loss}\")\n",
    "print(f\"test accuracy:{accuracy}\")\n"
   ]
  },
  {
   "cell_type": "code",
   "execution_count": 26,
   "id": "31ecf213",
   "metadata": {},
   "outputs": [
    {
     "data": {
      "image/png": "[encoded data removed]",
      "text/plain": [
       "<Figure size 640x480 with 1 Axes>"
      ]
     },
     "metadata": {},
     "output_type": "display_data"
    }
   ],
   "source": [
    "#visualization\n",
    "plt.plot(result.history['val_accuracy'],label=\"validation accuracy\",color=\"blue\")\n",
    "plt.plot(result.history['accuracy'],label=\"train accuracy\",color=\"green\")\n",
    "plt.title(\"Train_accuracy vs Val_accuracy\")\n",
    "plt.xlabel(\"Epochs\")\n",
    "plt.ylabel(\"Accuracy\")\n",
    "plt.legend()\n",
    "plt.show()"
   ]
  },
  {
   "cell_type": "code",
   "execution_count": 27,
   "id": "14c3efce",
   "metadata": {},
   "outputs": [],
   "source": [
    "#SGD\n",
    "#adam\n",
    "#rmsprop"
   ]
  },
  {
   "cell_type": "code",
   "execution_count": 28,
   "id": "3fca26be",
   "metadata": {},
   "outputs": [],
   "source": [
    "import numpy as np\n",
    "from PIL import Image\n",
    "import matplotlib.pyplot as plt\n",
    "\n",
    "# CIFAR-10 class names\n",
    "class_names = ['airplane', 'automobile', 'bird', 'cat', 'deer', \n",
    "               'dog', 'frog', 'horse', 'ship', 'truck']\n",
    "\n",
    "def predict_image(image_path, model):\n",
    "    \"\"\"\n",
    "    Predict the class of an input image using the trained model\n",
    "    \n",
    "    Args:\n",
    "        image_path: Path to the image file\n",
    "        model: Trained Keras model\n",
    "    \n",
    "    Returns:\n",
    "        Predicted class name and confidence\n",
    "    \"\"\"\n",
    "    # Load and preprocess the image\n",
    "    img = Image.open(image_path)\n",
    "    \n",
    "    # Resize to 32x32 (CIFAR-10 input size)\n",
    "    img = img.resize((32, 32))\n",
    "    \n",
    "    # Convert to numpy array and normalize\n",
    "    img_array = np.array(img)\n",
    "    img_array = img_array.astype('float32') / 255.0\n",
    "    \n",
    "    # If image is grayscale, convert to RGB\n",
    "    if len(img_array.shape) == 2:\n",
    "        img_array = np.stack([img_array]*3, axis=-1)\n",
    "    # If image has alpha channel, remove it\n",
    "    elif img_array.shape[2] == 4:\n",
    "        img_array = img_array[:, :, :3]\n",
    "    \n",
    "    # Add batch dimension\n",
    "    img_array = np.expand_dims(img_array, axis=0)\n",
    "    \n",
    "    # Make prediction\n",
    "    predictions = model.predict(img_array)\n",
    "    predicted_class = np.argmax(predictions[0])\n",
    "    confidence = np.max(predictions[0])\n",
    "    \n",
    "    # Display the image\n",
    "    plt.figure(figsize=(6, 6))\n",
    "    plt.imshow(img)\n",
    "    plt.title(f'Predicted: {class_names[predicted_class]} ({confidence:.2f})')\n",
    "    plt.axis('off')\n",
    "    plt.show()\n",
    "    \n",
    "    return class_names[predicted_class], confidence\n",
    "\n",
    "# Example usage - you need to provide actual values:\n",
    "# Replace 'path_to_your_image.jpg' with actual image path\n",
    "# Replace 'model' with your trained model (model or model_3)\n",
    "\n",
    "# For example, if you want to test with one of your trained models:\n",
    "# predicted_class, confidence = predict_image('your_image.jpg', model_3)\n",
    "# print(f\"Predicted class: {predicted_class} with confidence: {confidence:.2f}\")"
   ]
  },
  {
   "cell_type": "code",
   "execution_count": 31,
   "id": "89af4834",
   "metadata": {},
   "outputs": [
    {
     "name": "stdout",
     "output_type": "stream",
     "text": [
      "\u001b[1m1/1\u001b[0m \u001b[32m━━━━━━━━━━━━━━━━━━━━\u001b[0m\u001b[37m\u001b[0m \u001b[1m0s\u001b[0m 60ms/step\n"
     ]
    },
    {
     "data": {
      "image/png": "[encoded data removed]",
      "text/plain": [
       "<Figure size 600x600 with 1 Axes>"
      ]
     },
     "metadata": {},
     "output_type": "display_data"
    },
    {
     "name": "stdout",
     "output_type": "stream",
     "text": [
      "🎯 Predicted class: deer\n",
      "📊 Confidence: 0.1712\n"
     ]
    }
   ],
   "source": [
    "image_path = \"image.jpg\"\n",
    "predicted_class, confidence = predict_image(image_path, model_3)\n",
    "print(f\"🎯 Predicted class: {predicted_class}\")\n",
    "print(f\"📊 Confidence: {confidence:.4f}\")"
   ]
  }
 ],
 "metadata": {
  "kernelspec": {
   "display_name": "Python 3",
   "language": "python",
   "name": "python3"
  },
  "language_info": {
   "codemirror_mode": {
    "name": "ipython",
    "version": 3
   },
   "file_extension": ".py",
   "mimetype": "text/x-python",
   "name": "python",
   "nbconvert_exporter": "python",
   "pygments_lexer": "ipython3",
   "version": "3.10.0"
  }
 },
 "nbformat": 4,
 "nbformat_minor": 5
}
