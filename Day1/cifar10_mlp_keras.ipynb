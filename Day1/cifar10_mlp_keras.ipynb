{
 "cells": [
  {
   "cell_type": "code",
   "execution_count": null,
   "id": "cf16a58e",
   "metadata": {},
   "outputs": [
    {
     "name": "stdout",
     "output_type": "stream",
     "text": [
      "Collecting numpy\n",
      "  Using cached numpy-2.2.6-cp310-cp310-win_amd64.whl (12.9 MB)\n",
      "Installing collected packages: numpy\n",
      "Successfully installed numpy-2.2.6\n"
     ]
    },
    {
     "name": "stderr",
     "output_type": "stream",
     "text": [
      "\n",
      "[notice] A new release of pip is available: 23.0.1 -> 25.3\n",
      "[notice] To update, run: python.exe -m pip install --upgrade pip\n"
     ]
    }
   ],
   "source": [
    "\n",
    "#TASK - 1.Give input image to model n it ahould predict it\n",
    "#2.improve accuracy\n",
    "#3.Accuracy val accuracy plots , Loss plots\n",
    "#Experiment with depths\n",
    "!pip install numpy"
   ]
  },
  {
   "cell_type": "code",
   "execution_count": 2,
   "id": "5ba7b95e",
   "metadata": {},
   "outputs": [
    {
     "name": "stdout",
     "output_type": "stream",
     "text": [
      "Collecting keras\n",
      "  Using cached keras-3.12.0-py3-none-any.whl (1.5 MB)\n",
      "Collecting tensorflow\n",
      "  Using cached tensorflow-2.20.0-cp310-cp310-win_amd64.whl (331.7 MB)\n",
      "Collecting absl-py\n",
      "  Using cached absl_py-2.3.1-py3-none-any.whl (135 kB)\n",
      "Collecting ml-dtypes\n",
      "  Using cached ml_dtypes-0.5.3-cp310-cp310-win_amd64.whl (206 kB)\n",
      "Requirement already satisfied: numpy in d:\\assignment\\venv\\lib\\site-packages (from keras) (2.2.6)\n",
      "Collecting rich\n",
      "  Using cached rich-14.2.0-py3-none-any.whl (243 kB)\n",
      "Collecting optree\n",
      "  Using cached optree-0.17.0-cp310-cp310-win_amd64.whl (304 kB)\n",
      "Collecting namex\n",
      "  Using cached namex-0.1.0-py3-none-any.whl (5.9 kB)\n",
      "Requirement already satisfied: packaging in d:\\assignment\\venv\\lib\\site-packages (from keras) (25.0)\n",
      "Collecting h5py\n",
      "  Using cached h5py-3.15.1-cp310-cp310-win_amd64.whl (2.9 MB)\n",
      "Collecting flatbuffers>=24.3.25\n",
      "  Using cached flatbuffers-25.9.23-py2.py3-none-any.whl (30 kB)\n",
      "Collecting opt_einsum>=2.3.2\n",
      "  Using cached opt_einsum-3.4.0-py3-none-any.whl (71 kB)\n",
      "Collecting grpcio<2.0,>=1.24.3\n",
      "  Using cached grpcio-1.76.0-cp310-cp310-win_amd64.whl (4.7 MB)\n",
      "Collecting termcolor>=1.1.0\n",
      "  Using cached termcolor-3.2.0-py3-none-any.whl (7.7 kB)\n",
      "Collecting requests<3,>=2.21.0\n",
      "  Using cached requests-2.32.5-py3-none-any.whl (64 kB)\n",
      "Collecting protobuf>=5.28.0\n",
      "  Using cached protobuf-6.33.0-cp310-abi3-win_amd64.whl (436 kB)\n",
      "Collecting gast!=0.5.0,!=0.5.1,!=0.5.2,>=0.2.1\n",
      "  Using cached gast-0.6.0-py3-none-any.whl (21 kB)\n",
      "Collecting google_pasta>=0.1.1\n",
      "  Using cached google_pasta-0.2.0-py3-none-any.whl (57 kB)\n",
      "Requirement already satisfied: six>=1.12.0 in d:\\assignment\\venv\\lib\\site-packages (from tensorflow) (1.17.0)\n",
      "Collecting tensorboard~=2.20.0\n",
      "  Using cached tensorboard-2.20.0-py3-none-any.whl (5.5 MB)\n",
      "Collecting wrapt>=1.11.0\n",
      "  Using cached wrapt-2.0.0-cp310-cp310-win_amd64.whl (60 kB)\n",
      "Requirement already satisfied: setuptools in d:\\assignment\\venv\\lib\\site-packages (from tensorflow) (65.5.0)\n",
      "Requirement already satisfied: typing_extensions>=3.6.6 in d:\\assignment\\venv\\lib\\site-packages (from tensorflow) (4.15.0)\n",
      "Collecting astunparse>=1.6.0\n",
      "  Using cached astunparse-1.6.3-py2.py3-none-any.whl (12 kB)\n",
      "Collecting libclang>=13.0.0\n",
      "  Using cached libclang-18.1.1-py2.py3-none-win_amd64.whl (26.4 MB)\n",
      "Collecting wheel<1.0,>=0.23.0\n",
      "  Using cached wheel-0.45.1-py3-none-any.whl (72 kB)\n",
      "Collecting idna<4,>=2.5\n",
      "  Using cached idna-3.11-py3-none-any.whl (71 kB)\n",
      "Collecting certifi>=2017.4.17\n",
      "  Using cached certifi-2025.10.5-py3-none-any.whl (163 kB)\n",
      "Collecting charset_normalizer<4,>=2\n",
      "  Using cached charset_normalizer-3.4.4-cp310-cp310-win_amd64.whl (107 kB)\n",
      "Collecting urllib3<3,>=1.21.1\n",
      "  Using cached urllib3-2.5.0-py3-none-any.whl (129 kB)\n",
      "Collecting markdown>=2.6.8\n",
      "  Using cached markdown-3.9-py3-none-any.whl (107 kB)\n",
      "Collecting pillow\n",
      "  Using cached pillow-12.0.0-cp310-cp310-win_amd64.whl (7.0 MB)\n",
      "Collecting tensorboard-data-server<0.8.0,>=0.7.0\n",
      "  Using cached tensorboard_data_server-0.7.2-py3-none-any.whl (2.4 kB)\n",
      "Collecting werkzeug>=1.0.1\n",
      "  Using cached werkzeug-3.1.3-py3-none-any.whl (224 kB)\n",
      "Requirement already satisfied: pygments<3.0.0,>=2.13.0 in d:\\assignment\\venv\\lib\\site-packages (from rich->keras) (2.19.2)\n",
      "Collecting markdown-it-py>=2.2.0\n",
      "  Using cached markdown_it_py-4.0.0-py3-none-any.whl (87 kB)\n",
      "Collecting mdurl~=0.1\n",
      "  Using cached mdurl-0.1.2-py3-none-any.whl (10.0 kB)\n",
      "Collecting MarkupSafe>=2.1.1\n",
      "  Using cached markupsafe-3.0.3-cp310-cp310-win_amd64.whl (15 kB)\n",
      "Installing collected packages: namex, libclang, flatbuffers, wrapt, wheel, urllib3, termcolor, tensorboard-data-server, protobuf, pillow, optree, opt_einsum, ml-dtypes, mdurl, MarkupSafe, markdown, idna, h5py, grpcio, google_pasta, gast, charset_normalizer, certifi, absl-py, werkzeug, requests, markdown-it-py, astunparse, tensorboard, rich, keras, tensorflow\n",
      "Successfully installed MarkupSafe-3.0.3 absl-py-2.3.1 astunparse-1.6.3 certifi-2025.10.5 charset_normalizer-3.4.4 flatbuffers-25.9.23 gast-0.6.0 google_pasta-0.2.0 grpcio-1.76.0 h5py-3.15.1 idna-3.11 keras-3.12.0 libclang-18.1.1 markdown-3.9 markdown-it-py-4.0.0 mdurl-0.1.2 ml-dtypes-0.5.3 namex-0.1.0 opt_einsum-3.4.0 optree-0.17.0 pillow-12.0.0 protobuf-6.33.0 requests-2.32.5 rich-14.2.0 tensorboard-2.20.0 tensorboard-data-server-0.7.2 tensorflow-2.20.0 termcolor-3.2.0 urllib3-2.5.0 werkzeug-3.1.3 wheel-0.45.1 wrapt-2.0.0\n"
     ]
    },
    {
     "name": "stderr",
     "output_type": "stream",
     "text": [
      "\n",
      "[notice] A new release of pip is available: 23.0.1 -> 25.3\n",
      "[notice] To update, run: python.exe -m pip install --upgrade pip\n"
     ]
    }
   ],
   "source": [
    "!pip install keras tensorflow\n"
   ]
  },
  {
   "cell_type": "code",
   "execution_count": 3,
   "id": "17518986",
   "metadata": {},
   "outputs": [
    {
     "name": "stdout",
     "output_type": "stream",
     "text": [
      "Collecting matplotlib\n",
      "  Using cached matplotlib-3.10.7-cp310-cp310-win_amd64.whl (8.1 MB)\n",
      "Requirement already satisfied: numpy>=1.23 in d:\\assignment\\venv\\lib\\site-packages (from matplotlib) (2.2.6)\n",
      "Collecting fonttools>=4.22.0\n",
      "  Using cached fonttools-4.60.1-cp310-cp310-win_amd64.whl (2.3 MB)\n",
      "Collecting cycler>=0.10\n",
      "  Using cached cycler-0.12.1-py3-none-any.whl (8.3 kB)\n",
      "Requirement already satisfied: packaging>=20.0 in d:\\assignment\\venv\\lib\\site-packages (from matplotlib) (25.0)\n",
      "Requirement already satisfied: pillow>=8 in d:\\assignment\\venv\\lib\\site-packages (from matplotlib) (12.0.0)\n",
      "Requirement already satisfied: python-dateutil>=2.7 in d:\\assignment\\venv\\lib\\site-packages (from matplotlib) (2.9.0.post0)\n",
      "Collecting contourpy>=1.0.1\n",
      "  Using cached contourpy-1.3.2-cp310-cp310-win_amd64.whl (221 kB)\n",
      "Collecting kiwisolver>=1.3.1\n",
      "  Using cached kiwisolver-1.4.9-cp310-cp310-win_amd64.whl (73 kB)\n",
      "Collecting pyparsing>=3\n",
      "  Using cached pyparsing-3.2.5-py3-none-any.whl (113 kB)\n",
      "Requirement already satisfied: six>=1.5 in d:\\assignment\\venv\\lib\\site-packages (from python-dateutil>=2.7->matplotlib) (1.17.0)\n",
      "Installing collected packages: pyparsing, kiwisolver, fonttools, cycler, contourpy, matplotlib\n",
      "Successfully installed contourpy-1.3.2 cycler-0.12.1 fonttools-4.60.1 kiwisolver-1.4.9 matplotlib-3.10.7 pyparsing-3.2.5\n"
     ]
    },
    {
     "name": "stderr",
     "output_type": "stream",
     "text": [
      "\n",
      "[notice] A new release of pip is available: 23.0.1 -> 25.3\n",
      "[notice] To update, run: python.exe -m pip install --upgrade pip\n"
     ]
    }
   ],
   "source": [
    "!pip install matplotlib"
   ]
  },
  {
   "cell_type": "code",
   "execution_count": 4,
   "id": "62bdcb60",
   "metadata": {},
   "outputs": [],
   "source": [
    "from keras.models import Sequential\n",
    "from keras.layers import Dense,Flatten\n",
    "from keras.datasets import cifar10\n",
    "from keras.utils import to_categorical\n",
    "from keras.optimizers import Adam\n",
    "import matplotlib.pyplot as plt\n",
    "\n"
   ]
  },
  {
   "cell_type": "code",
   "execution_count": 5,
   "id": "dd65e9cd",
   "metadata": {},
   "outputs": [],
   "source": [
    "(x_train,y_train),(x_test,y_test) = cifar10.load_data()"
   ]
  },
  {
   "cell_type": "code",
   "execution_count": null,
   "id": "6b4a5342",
   "metadata": {},
   "outputs": [],
   "source": []
  },
  {
   "cell_type": "markdown",
   "id": "86a251b8",
   "metadata": {},
   "source": [
    "Normalize "
   ]
  },
  {
   "cell_type": "code",
   "execution_count": 6,
   "id": "ebaf24cb",
   "metadata": {},
   "outputs": [],
   "source": [
    "x_train = x_train.astype('float32')/255.0\n",
    "x_test  = x_test.astype('float32')/255.0\n"
   ]
  },
  {
   "cell_type": "markdown",
   "id": "c7b7d12b",
   "metadata": {},
   "source": [
    "to_categorical"
   ]
  },
  {
   "cell_type": "code",
   "execution_count": 7,
   "id": "fb95b577",
   "metadata": {},
   "outputs": [
    {
     "name": "stdout",
     "output_type": "stream",
     "text": [
      "before : label is :[6]\n",
      "after : label is :[0. 0. 0. 0. 0. 0. 1. 0. 0. 0.]\n",
      "after : label is :[0. 0. 0. 0. 0. 0. 0. 0. 1. 0.]\n"
     ]
    }
   ],
   "source": [
    "print(f\"before : label is :{y_train[0]}\")\n",
    "y_train = to_categorical(y_train)\n",
    "print(f\"after : label is :{y_train[0]}\")\n",
    "print(f\"after : label is :{y_train[100]}\")\n",
    "y_test = to_categorical(y_test)"
   ]
  },
  {
   "cell_type": "markdown",
   "id": "bc2c731c",
   "metadata": {},
   "source": [
    "Architecture"
   ]
  },
  {
   "cell_type": "code",
   "execution_count": 8,
   "id": "473f715a",
   "metadata": {},
   "outputs": [
    {
     "name": "stderr",
     "output_type": "stream",
     "text": [
      "d:\\ASSIGNMENT\\venv\\lib\\site-packages\\keras\\src\\layers\\reshaping\\flatten.py:37: UserWarning: Do not pass an `input_shape`/`input_dim` argument to a layer. When using Sequential models, prefer using an `Input(shape)` object as the first layer in the model instead.\n",
      "  super().__init__(**kwargs)\n"
     ]
    }
   ],
   "source": [
    "model = Sequential()\n",
    "model.add(Flatten(input_shape =(32,32,3)))\n",
    "model.add(Dense(128,'relu'))  #layer containg 128 neuron \n",
    "model.add(Dense(10,'softmax'))       #10 neurons last layer"
   ]
  },
  {
   "cell_type": "code",
   "execution_count": 9,
   "id": "eadc1c86",
   "metadata": {},
   "outputs": [],
   "source": [
    "#compile\n",
    "model.compile(optimizer=Adam(learning_rate=0.01),loss='categorical_crossentropy',metrics=['accuracy'])"
   ]
  },
  {
   "cell_type": "code",
   "execution_count": 10,
   "id": "30df2ea7",
   "metadata": {},
   "outputs": [
    {
     "name": "stdout",
     "output_type": "stream",
     "text": [
      "Epoch 1/10\n",
      "\u001b[1m625/625\u001b[0m \u001b[32m━━━━━━━━━━━━━━━━━━━━\u001b[0m\u001b[37m\u001b[0m \u001b[1m4s\u001b[0m 5ms/step - accuracy: 0.1630 - loss: 2.5064 - val_accuracy: 0.1753 - val_loss: 2.0943\n",
      "Epoch 2/10\n",
      "\u001b[1m625/625\u001b[0m \u001b[32m━━━━━━━━━━━━━━━━━━━━\u001b[0m\u001b[37m\u001b[0m \u001b[1m3s\u001b[0m 4ms/step - accuracy: 0.1708 - loss: 2.1017 - val_accuracy: 0.1702 - val_loss: 2.1208\n",
      "Epoch 3/10\n",
      "\u001b[1m625/625\u001b[0m \u001b[32m━━━━━━━━━━━━━━━━━━━━\u001b[0m\u001b[37m\u001b[0m \u001b[1m3s\u001b[0m 4ms/step - accuracy: 0.1715 - loss: 2.0987 - val_accuracy: 0.1853 - val_loss: 2.0973\n",
      "Epoch 4/10\n",
      "\u001b[1m625/625\u001b[0m \u001b[32m━━━━━━━━━━━━━━━━━━━━\u001b[0m\u001b[37m\u001b[0m \u001b[1m3s\u001b[0m 4ms/step - accuracy: 0.1752 - loss: 2.0948 - val_accuracy: 0.1794 - val_loss: 2.1082\n",
      "Epoch 5/10\n",
      "\u001b[1m625/625\u001b[0m \u001b[32m━━━━━━━━━━━━━━━━━━━━\u001b[0m\u001b[37m\u001b[0m \u001b[1m3s\u001b[0m 4ms/step - accuracy: 0.1743 - loss: 2.0878 - val_accuracy: 0.1720 - val_loss: 2.0769\n",
      "Epoch 6/10\n",
      "\u001b[1m625/625\u001b[0m \u001b[32m━━━━━━━━━━━━━━━━━━━━\u001b[0m\u001b[37m\u001b[0m \u001b[1m3s\u001b[0m 4ms/step - accuracy: 0.1756 - loss: 2.0838 - val_accuracy: 0.1796 - val_loss: 2.0915\n",
      "Epoch 7/10\n",
      "\u001b[1m625/625\u001b[0m \u001b[32m━━━━━━━━━━━━━━━━━━━━\u001b[0m\u001b[37m\u001b[0m \u001b[1m3s\u001b[0m 4ms/step - accuracy: 0.1761 - loss: 2.0808 - val_accuracy: 0.1794 - val_loss: 2.0871\n",
      "Epoch 8/10\n",
      "\u001b[1m625/625\u001b[0m \u001b[32m━━━━━━━━━━━━━━━━━━━━\u001b[0m\u001b[37m\u001b[0m \u001b[1m3s\u001b[0m 4ms/step - accuracy: 0.1763 - loss: 2.0798 - val_accuracy: 0.1722 - val_loss: 2.0991\n",
      "Epoch 9/10\n",
      "\u001b[1m625/625\u001b[0m \u001b[32m━━━━━━━━━━━━━━━━━━━━\u001b[0m\u001b[37m\u001b[0m \u001b[1m3s\u001b[0m 4ms/step - accuracy: 0.1734 - loss: 2.0813 - val_accuracy: 0.1848 - val_loss: 2.0715\n",
      "Epoch 10/10\n",
      "\u001b[1m625/625\u001b[0m \u001b[32m━━━━━━━━━━━━━━━━━━━━\u001b[0m\u001b[37m\u001b[0m \u001b[1m3s\u001b[0m 4ms/step - accuracy: 0.1769 - loss: 2.0780 - val_accuracy: 0.1683 - val_loss: 2.0712\n"
     ]
    }
   ],
   "source": [
    "#Train\n",
    "result=model.fit(x_train,y_train,epochs=10,batch_size=64,validation_split=0.2) #64 images are sent each time"
   ]
  },
  {
   "cell_type": "code",
   "execution_count": 11,
   "id": "780f4a7f",
   "metadata": {},
   "outputs": [
    {
     "name": "stdout",
     "output_type": "stream",
     "text": [
      "\u001b[1m313/313\u001b[0m \u001b[32m━━━━━━━━━━━━━━━━━━━━\u001b[0m\u001b[37m\u001b[0m \u001b[1m1s\u001b[0m 2ms/step - accuracy: 0.1676 - loss: 2.0570\n",
      "test loss:2.0569698810577393\n",
      "test accuracy:0.16760000586509705\n",
      "dict_keys(['accuracy', 'loss', 'val_accuracy', 'val_loss'])\n",
      "dict_values([[0.16302500665187836, 0.17077499628067017, 0.17145000398159027, 0.1751749962568283, 0.17434999346733093, 0.1756249964237213, 0.17607499659061432, 0.17630000412464142, 0.1733749955892563, 0.17692500352859497], [2.506403923034668, 2.1016809940338135, 2.098726511001587, 2.0948376655578613, 2.0878281593322754, 2.083789348602295, 2.080798625946045, 2.079847574234009, 2.081282138824463, 2.0779666900634766], [0.1753000020980835, 0.17020000517368317, 0.18529999256134033, 0.1793999969959259, 0.1720000058412552, 0.17960000038146973, 0.1793999969959259, 0.17219999432563782, 0.18479999899864197, 0.16830000281333923], [2.09427547454834, 2.120788812637329, 2.097254514694214, 2.1082098484039307, 2.0768518447875977, 2.0915262699127197, 2.0871083736419678, 2.099137783050537, 2.0714800357818604, 2.0711729526519775]])\n",
      "{'accuracy': [0.16302500665187836, 0.17077499628067017, 0.17145000398159027, 0.1751749962568283, 0.17434999346733093, 0.1756249964237213, 0.17607499659061432, 0.17630000412464142, 0.1733749955892563, 0.17692500352859497], 'loss': [2.506403923034668, 2.1016809940338135, 2.098726511001587, 2.0948376655578613, 2.0878281593322754, 2.083789348602295, 2.080798625946045, 2.079847574234009, 2.081282138824463, 2.0779666900634766], 'val_accuracy': [0.1753000020980835, 0.17020000517368317, 0.18529999256134033, 0.1793999969959259, 0.1720000058412552, 0.17960000038146973, 0.1793999969959259, 0.17219999432563782, 0.18479999899864197, 0.16830000281333923], 'val_loss': [2.09427547454834, 2.120788812637329, 2.097254514694214, 2.1082098484039307, 2.0768518447875977, 2.0915262699127197, 2.0871083736419678, 2.099137783050537, 2.0714800357818604, 2.0711729526519775]}\n"
     ]
    }
   ],
   "source": [
    "#Evaluate\n",
    "loss,accuracy = model.evaluate(x_test,y_test)\n",
    "print(f\"test loss:{loss}\")\n",
    "print(f\"test accuracy:{accuracy}\")\n",
    "print(result.history.keys())\n",
    "print(result.history.values())\n",
    "print(result.history)"
   ]
  },
  {
   "cell_type": "code",
   "execution_count": 12,
   "id": "74db65c3",
   "metadata": {},
   "outputs": [
    {
     "data": {
      "image/png": "[encoded data removed]",
      "text/plain": [
       "<Figure size 640x480 with 1 Axes>"
      ]
     },
     "metadata": {},
     "output_type": "display_data"
    }
   ],
   "source": [
    "#visualization\n",
    "plt.plot(result.history['val_accuracy'],label=\"validation accuracy\",color=\"blue\")\n",
    "plt.plot(result.history['accuracy'],label=\"train accuracy\",color=\"green\")\n",
    "plt.title(\"Train_accuracy vs Val_accuracy\")\n",
    "plt.xlabel(\"Epochs\")\n",
    "plt.ylabel(\"Accuracy\")\n",
    "plt.legend()\n",
    "plt.show()"
   ]
  },
  {
   "cell_type": "code",
   "execution_count": 13,
   "id": "6db94f3d",
   "metadata": {},
   "outputs": [
    {
     "data": {
      "image/png": "[encoded data removed]",
      "text/plain": [
       "<Figure size 640x480 with 1 Axes>"
      ]
     },
     "metadata": {},
     "output_type": "display_data"
    }
   ],
   "source": [
    "plt.plot(result.history['val_loss'],label=\"validation loss\",color=\"blue\")\n",
    "plt.plot(result.history['loss'],label=\"train loss\",color=\"green\")\n",
    "plt.title(\"Train_loss vs Val_loss\")\n",
    "plt.xlabel(\"Epochs\")\n",
    "plt.ylabel(\"loss\")\n",
    "plt.legend()\n",
    "plt.show()"
   ]
  },
  {
   "cell_type": "markdown",
   "id": "b39a0894",
   "metadata": {},
   "source": [
    "Experiment with depth(number of hidden layers)"
   ]
  },
  {
   "cell_type": "code",
   "execution_count": 14,
   "id": "304e8865",
   "metadata": {},
   "outputs": [
    {
     "name": "stdout",
     "output_type": "stream",
     "text": [
      "uint8\n",
      "(50000, 32, 32, 3)\n",
      "(10000, 1)\n",
      "[[[ 59  62  63]\n",
      "  [ 43  46  45]\n",
      "  [ 50  48  43]\n",
      "  ...\n",
      "  [158 132 108]\n",
      "  [152 125 102]\n",
      "  [148 124 103]]\n",
      "\n",
      " [[ 16  20  20]\n",
      "  [  0   0   0]\n",
      "  [ 18   8   0]\n",
      "  ...\n",
      "  [123  88  55]\n",
      "  [119  83  50]\n",
      "  [122  87  57]]\n",
      "\n",
      " [[ 25  24  21]\n",
      "  [ 16   7   0]\n",
      "  [ 49  27   8]\n",
      "  ...\n",
      "  [118  84  50]\n",
      "  [120  84  50]\n",
      "  [109  73  42]]\n",
      "\n",
      " ...\n",
      "\n",
      " [[208 170  96]\n",
      "  [201 153  34]\n",
      "  [198 161  26]\n",
      "  ...\n",
      "  [160 133  70]\n",
      "  [ 56  31   7]\n",
      "  [ 53  34  20]]\n",
      "\n",
      " [[180 139  96]\n",
      "  [173 123  42]\n",
      "  [186 144  30]\n",
      "  ...\n",
      "  [184 148  94]\n",
      "  [ 97  62  34]\n",
      "  [ 83  53  34]]\n",
      "\n",
      " [[177 144 116]\n",
      "  [168 129  94]\n",
      "  [179 142  87]\n",
      "  ...\n",
      "  [216 184 140]\n",
      "  [151 118  84]\n",
      "  [123  92  72]]]\n",
      "***************************\n",
      "before : label is :[6]\n",
      "after : label is :[0. 0. 0. 0. 0. 0. 1. 0. 0. 0.]\n",
      "after : label is :[0. 0. 0. 0. 0. 0. 0. 0. 1. 0.]\n"
     ]
    }
   ],
   "source": [
    "#import libraries\n",
    "import numpy as np\n",
    "from keras.models import Sequential\n",
    "from keras.layers import Dense,Flatten\n",
    "from keras.datasets import cifar10\n",
    "from keras.optimizers import Adam\n",
    "from keras.utils import to_categorical\n",
    "import matplotlib.pyplot as plt\n",
    "\n",
    "#Load the Data\n",
    "(x_train,y_train),(x_test,y_test)=cifar10.load_data()\n",
    "print(x_train.dtype)\n",
    "print(x_train.shape)\n",
    "print(y_test.shape)\n",
    "print(x_train[0])\n",
    "\n",
    "#plt.imshow(x_train[0])\n",
    "#plt.show()\n",
    "print(\"***************************\")\n",
    "#print(f\"label is :{y_train[0]}\")\n",
    "\n",
    "#normalize\n",
    "x_train = x_train.astype('float32')/255.0\n",
    "x_test  = x_test.astype('float32')/255.0\n",
    "\n",
    "#to_categorical\n",
    "print(f\"before : label is :{y_train[0]}\")\n",
    "y_train = to_categorical(y_train)\n",
    "print(f\"after : label is :{y_train[0]}\")\n",
    "print(f\"after : label is :{y_train[100]}\")\n",
    "y_test = to_categorical(y_test)\n",
    "\n"
   ]
  },
  {
   "cell_type": "code",
   "execution_count": 15,
   "id": "920f53f1",
   "metadata": {},
   "outputs": [],
   "source": [
    "model = Sequential()\n",
    "model.add(Flatten(input_shape =(32,32,3)))\n",
    "model.add(Dense(128,'relu'))  #layer containg 128 neuron \n",
    "model.add(Dense(10,'softmax'))       #10 neurons last layer\n",
    "model.compile(optimizer=Adam(learning_rate=0.01),loss='categorical_crossentropy',metrics=['accuracy'])"
   ]
  },
  {
   "cell_type": "code",
   "execution_count": 16,
   "id": "f52a72f1",
   "metadata": {},
   "outputs": [
    {
     "name": "stdout",
     "output_type": "stream",
     "text": [
      "Epoch 1/10\n",
      "\u001b[1m625/625\u001b[0m \u001b[32m━━━━━━━━━━━━━━━━━━━━\u001b[0m\u001b[37m\u001b[0m \u001b[1m4s\u001b[0m 5ms/step - accuracy: 0.1764 - loss: 2.7429 - val_accuracy: 0.1747 - val_loss: 2.1057\n",
      "Epoch 2/10\n",
      "\u001b[1m625/625\u001b[0m \u001b[32m━━━━━━━━━━━━━━━━━━━━\u001b[0m\u001b[37m\u001b[0m \u001b[1m3s\u001b[0m 5ms/step - accuracy: 0.1854 - loss: 2.0678 - val_accuracy: 0.1867 - val_loss: 2.0576\n",
      "Epoch 3/10\n",
      "\u001b[1m625/625\u001b[0m \u001b[32m━━━━━━━━━━━━━━━━━━━━\u001b[0m\u001b[37m\u001b[0m \u001b[1m3s\u001b[0m 5ms/step - accuracy: 0.1839 - loss: 2.0636 - val_accuracy: 0.1831 - val_loss: 2.0743\n",
      "Epoch 4/10\n",
      "\u001b[1m625/625\u001b[0m \u001b[32m━━━━━━━━━━━━━━━━━━━━\u001b[0m\u001b[37m\u001b[0m \u001b[1m3s\u001b[0m 5ms/step - accuracy: 0.1835 - loss: 2.0617 - val_accuracy: 0.1838 - val_loss: 2.0615\n",
      "Epoch 5/10\n",
      "\u001b[1m625/625\u001b[0m \u001b[32m━━━━━━━━━━━━━━━━━━━━\u001b[0m\u001b[37m\u001b[0m \u001b[1m3s\u001b[0m 5ms/step - accuracy: 0.1817 - loss: 2.0593 - val_accuracy: 0.1868 - val_loss: 2.0646\n",
      "Epoch 6/10\n",
      "\u001b[1m625/625\u001b[0m \u001b[32m━━━━━━━━━━━━━━━━━━━━\u001b[0m\u001b[37m\u001b[0m \u001b[1m3s\u001b[0m 5ms/step - accuracy: 0.1808 - loss: 2.0545 - val_accuracy: 0.1767 - val_loss: 2.0718\n",
      "Epoch 7/10\n",
      "\u001b[1m625/625\u001b[0m \u001b[32m━━━━━━━━━━━━━━━━━━━━\u001b[0m\u001b[37m\u001b[0m \u001b[1m3s\u001b[0m 5ms/step - accuracy: 0.1810 - loss: 2.0641 - val_accuracy: 0.1923 - val_loss: 2.0554\n",
      "Epoch 8/10\n",
      "\u001b[1m625/625\u001b[0m \u001b[32m━━━━━━━━━━━━━━━━━━━━\u001b[0m\u001b[37m\u001b[0m \u001b[1m3s\u001b[0m 5ms/step - accuracy: 0.1833 - loss: 2.0572 - val_accuracy: 0.1719 - val_loss: 2.0753\n",
      "Epoch 9/10\n",
      "\u001b[1m625/625\u001b[0m \u001b[32m━━━━━━━━━━━━━━━━━━━━\u001b[0m\u001b[37m\u001b[0m \u001b[1m3s\u001b[0m 5ms/step - accuracy: 0.1827 - loss: 2.0539 - val_accuracy: 0.1787 - val_loss: 2.0700\n",
      "Epoch 10/10\n",
      "\u001b[1m625/625\u001b[0m \u001b[32m━━━━━━━━━━━━━━━━━━━━\u001b[0m\u001b[37m\u001b[0m \u001b[1m3s\u001b[0m 5ms/step - accuracy: 0.1802 - loss: 2.0580 - val_accuracy: 0.1886 - val_loss: 2.0449\n"
     ]
    }
   ],
   "source": [
    "#Train\n",
    "result=model.fit(x_train,y_train,epochs=10,batch_size=64,validation_split=0.2) #64 images are sent each time"
   ]
  },
  {
   "cell_type": "code",
   "execution_count": 17,
   "id": "7dcf26ca",
   "metadata": {},
   "outputs": [
    {
     "name": "stdout",
     "output_type": "stream",
     "text": [
      "\u001b[1m313/313\u001b[0m \u001b[32m━━━━━━━━━━━━━━━━━━━━\u001b[0m\u001b[37m\u001b[0m \u001b[1m1s\u001b[0m 2ms/step - accuracy: 0.1889 - loss: 2.0364\n",
      "test loss:2.0363826751708984\n",
      "test accuracy:0.18889999389648438\n"
     ]
    }
   ],
   "source": [
    "loss,accuracy = model.evaluate(x_test,y_test)\n",
    "print(f\"test loss:{loss}\")\n",
    "print(f\"test accuracy:{accuracy}\")"
   ]
  },
  {
   "cell_type": "code",
   "execution_count": 18,
   "id": "b5178a37",
   "metadata": {},
   "outputs": [
    {
     "name": "stdout",
     "output_type": "stream",
     "text": [
      "Epoch 1/10\n",
      "\u001b[1m625/625\u001b[0m \u001b[32m━━━━━━━━━━━━━━━━━━━━\u001b[0m\u001b[37m\u001b[0m \u001b[1m4s\u001b[0m 5ms/step - accuracy: 0.2690 - loss: 2.1036 - val_accuracy: 0.3191 - val_loss: 1.8801\n",
      "Epoch 2/10\n",
      "\u001b[1m625/625\u001b[0m \u001b[32m━━━━━━━━━━━━━━━━━━━━\u001b[0m\u001b[37m\u001b[0m \u001b[1m3s\u001b[0m 5ms/step - accuracy: 0.3191 - loss: 1.8695 - val_accuracy: 0.3227 - val_loss: 1.8472\n",
      "Epoch 3/10\n",
      "\u001b[1m625/625\u001b[0m \u001b[32m━━━━━━━━━━━━━━━━━━━━\u001b[0m\u001b[37m\u001b[0m \u001b[1m3s\u001b[0m 6ms/step - accuracy: 0.3295 - loss: 1.8419 - val_accuracy: 0.3239 - val_loss: 1.8475\n",
      "Epoch 4/10\n",
      "\u001b[1m625/625\u001b[0m \u001b[32m━━━━━━━━━━━━━━━━━━━━\u001b[0m\u001b[37m\u001b[0m \u001b[1m4s\u001b[0m 6ms/step - accuracy: 0.3377 - loss: 1.8243 - val_accuracy: 0.3278 - val_loss: 1.8756\n",
      "Epoch 5/10\n",
      "\u001b[1m625/625\u001b[0m \u001b[32m━━━━━━━━━━━━━━━━━━━━\u001b[0m\u001b[37m\u001b[0m \u001b[1m4s\u001b[0m 6ms/step - accuracy: 0.3354 - loss: 1.8242 - val_accuracy: 0.3261 - val_loss: 1.8615\n",
      "Epoch 6/10\n",
      "\u001b[1m625/625\u001b[0m \u001b[32m━━━━━━━━━━━━━━━━━━━━\u001b[0m\u001b[37m\u001b[0m \u001b[1m3s\u001b[0m 5ms/step - accuracy: 0.3435 - loss: 1.8129 - val_accuracy: 0.3184 - val_loss: 1.8941\n",
      "Epoch 7/10\n",
      "\u001b[1m625/625\u001b[0m \u001b[32m━━━━━━━━━━━━━━━━━━━━\u001b[0m\u001b[37m\u001b[0m \u001b[1m3s\u001b[0m 5ms/step - accuracy: 0.3482 - loss: 1.8052 - val_accuracy: 0.3655 - val_loss: 1.7839\n",
      "Epoch 8/10\n",
      "\u001b[1m625/625\u001b[0m \u001b[32m━━━━━━━━━━━━━━━━━━━━\u001b[0m\u001b[37m\u001b[0m \u001b[1m4s\u001b[0m 6ms/step - accuracy: 0.3424 - loss: 1.8120 - val_accuracy: 0.3544 - val_loss: 1.8103\n",
      "Epoch 9/10\n",
      "\u001b[1m625/625\u001b[0m \u001b[32m━━━━━━━━━━━━━━━━━━━━\u001b[0m\u001b[37m\u001b[0m \u001b[1m5s\u001b[0m 6ms/step - accuracy: 0.3441 - loss: 1.8026 - val_accuracy: 0.3343 - val_loss: 1.8164\n",
      "Epoch 10/10\n",
      "\u001b[1m625/625\u001b[0m \u001b[32m━━━━━━━━━━━━━━━━━━━━\u001b[0m\u001b[37m\u001b[0m \u001b[1m3s\u001b[0m 5ms/step - accuracy: 0.3482 - loss: 1.8041 - val_accuracy: 0.3345 - val_loss: 1.8360\n"
     ]
    }
   ],
   "source": [
    "model_3 = Sequential()\n",
    "model_3.add(Flatten(input_shape =(32,32,3)))\n",
    "model_3.add(Dense(128,'relu'))  #layer containg 128 neuron \n",
    "model_3.add(Dense(128,'relu'))\n",
    "model_3.add(Dense(128,'relu'))\n",
    "model_3.add(Dense(10,'softmax'))       #10 neurons last layer\n",
    "model_3.compile(optimizer=Adam(learning_rate=0.01),loss='categorical_crossentropy',metrics=['accuracy'])\n",
    "#Train\n",
    "result=model_3.fit(x_train,y_train,epochs=10,batch_size=64,validation_split=0.2) #64 images are sent each time"
   ]
  },
  {
   "cell_type": "code",
   "execution_count": 19,
   "id": "19029ead",
   "metadata": {},
   "outputs": [
    {
     "name": "stdout",
     "output_type": "stream",
     "text": [
      "\u001b[1m313/313\u001b[0m \u001b[32m━━━━━━━━━━━━━━━━━━━━\u001b[0m\u001b[37m\u001b[0m \u001b[1m1s\u001b[0m 2ms/step - accuracy: 0.3368 - loss: 1.8259\n",
      "test loss:1.825853705406189\n",
      "test accuracy:0.3368000090122223\n"
     ]
    }
   ],
   "source": [
    "#Evaluate\n",
    "loss,accuracy = model_3.evaluate(x_test,y_test)\n",
    "print(f\"test loss:{loss}\")\n",
    "print(f\"test accuracy:{accuracy}\")\n"
   ]
  },
  {
   "cell_type": "code",
   "execution_count": 20,
   "id": "41cbbc5d",
   "metadata": {},
   "outputs": [
    {
     "name": "stdout",
     "output_type": "stream",
     "text": [
      "Epoch 1/10\n",
      "\u001b[1m625/625\u001b[0m \u001b[32m━━━━━━━━━━━━━━━━━━━━\u001b[0m\u001b[37m\u001b[0m \u001b[1m5s\u001b[0m 6ms/step - accuracy: 0.2204 - loss: 2.0685 - val_accuracy: 0.2689 - val_loss: 1.9460\n",
      "Epoch 2/10\n",
      "\u001b[1m625/625\u001b[0m \u001b[32m━━━━━━━━━━━━━━━━━━━━\u001b[0m\u001b[37m\u001b[0m \u001b[1m4s\u001b[0m 6ms/step - accuracy: 0.2659 - loss: 1.9358 - val_accuracy: 0.2655 - val_loss: 1.9543\n",
      "Epoch 3/10\n",
      "\u001b[1m625/625\u001b[0m \u001b[32m━━━━━━━━━━━━━━━━━━━━\u001b[0m\u001b[37m\u001b[0m \u001b[1m4s\u001b[0m 6ms/step - accuracy: 0.2868 - loss: 1.8902 - val_accuracy: 0.2856 - val_loss: 1.8789\n",
      "Epoch 4/10\n",
      "\u001b[1m625/625\u001b[0m \u001b[32m━━━━━━━━━━━━━━━━━━━━\u001b[0m\u001b[37m\u001b[0m \u001b[1m3s\u001b[0m 5ms/step - accuracy: 0.2979 - loss: 1.8772 - val_accuracy: 0.3010 - val_loss: 1.8796\n",
      "Epoch 5/10\n",
      "\u001b[1m625/625\u001b[0m \u001b[32m━━━━━━━━━━━━━━━━━━━━\u001b[0m\u001b[37m\u001b[0m \u001b[1m3s\u001b[0m 5ms/step - accuracy: 0.2981 - loss: 1.8605 - val_accuracy: 0.3105 - val_loss: 1.8368\n",
      "Epoch 6/10\n",
      "\u001b[1m625/625\u001b[0m \u001b[32m━━━━━━━━━━━━━━━━━━━━\u001b[0m\u001b[37m\u001b[0m \u001b[1m4s\u001b[0m 6ms/step - accuracy: 0.3104 - loss: 1.8438 - val_accuracy: 0.3054 - val_loss: 1.8529\n",
      "Epoch 7/10\n",
      "\u001b[1m625/625\u001b[0m \u001b[32m━━━━━━━━━━━━━━━━━━━━\u001b[0m\u001b[37m\u001b[0m \u001b[1m3s\u001b[0m 6ms/step - accuracy: 0.3070 - loss: 1.8413 - val_accuracy: 0.2863 - val_loss: 1.9360\n",
      "Epoch 8/10\n",
      "\u001b[1m625/625\u001b[0m \u001b[32m━━━━━━━━━━━━━━━━━━━━\u001b[0m\u001b[37m\u001b[0m \u001b[1m4s\u001b[0m 6ms/step - accuracy: 0.3152 - loss: 1.8310 - val_accuracy: 0.2900 - val_loss: 1.8899\n",
      "Epoch 9/10\n",
      "\u001b[1m625/625\u001b[0m \u001b[32m━━━━━━━━━━━━━━━━━━━━\u001b[0m\u001b[37m\u001b[0m \u001b[1m4s\u001b[0m 6ms/step - accuracy: 0.3213 - loss: 1.8199 - val_accuracy: 0.3196 - val_loss: 1.8356\n",
      "Epoch 10/10\n",
      "\u001b[1m625/625\u001b[0m \u001b[32m━━━━━━━━━━━━━━━━━━━━\u001b[0m\u001b[37m\u001b[0m \u001b[1m4s\u001b[0m 6ms/step - accuracy: 0.3280 - loss: 1.8090 - val_accuracy: 0.3210 - val_loss: 1.8282\n"
     ]
    }
   ],
   "source": [
    "model_5 = Sequential()\n",
    "model_5.add(Flatten(input_shape =(32,32,3)))\n",
    "model_5.add(Dense(128,'relu'))  #layer containg 128 neuron \n",
    "model_5.add(Dense(128,'relu'))\n",
    "model_5.add(Dense(128,'relu'))\n",
    "model_5.add(Dense(128,'relu'))\n",
    "model_5.add(Dense(128,'relu'))\n",
    "model_5.add(Dense(10,'softmax'))       #10 neurons last layer\n",
    "model_5.compile(optimizer=Adam(learning_rate=0.01),loss='categorical_crossentropy',metrics=['accuracy'])\n",
    "#Train\n",
    "result=model_5.fit(x_train,y_train,epochs=10,batch_size=64,validation_split=0.2) #64 images are sent each time"
   ]
  },
  {
   "cell_type": "code",
   "execution_count": 21,
   "id": "8108ca52",
   "metadata": {},
   "outputs": [
    {
     "name": "stdout",
     "output_type": "stream",
     "text": [
      "\u001b[1m313/313\u001b[0m \u001b[32m━━━━━━━━━━━━━━━━━━━━\u001b[0m\u001b[37m\u001b[0m \u001b[1m1s\u001b[0m 2ms/step - accuracy: 0.3220 - loss: 1.8096\n",
      "test loss:1.8095623254776\n",
      "test accuracy:0.32199999690055847\n"
     ]
    }
   ],
   "source": [
    "#Evaluate\n",
    "loss,accuracy = model_5.evaluate(x_test,y_test)\n",
    "print(f\"test loss:{loss}\")\n",
    "print(f\"test accuracy:{accuracy}\")\n"
   ]
  },
  {
   "cell_type": "code",
   "execution_count": 22,
   "id": "31ecf213",
   "metadata": {},
   "outputs": [
    {
     "data": {
      "image/png": "[encoded data removed]",
      "text/plain": [
       "<Figure size 640x480 with 1 Axes>"
      ]
     },
     "metadata": {},
     "output_type": "display_data"
    }
   ],
   "source": [
    "#visualization\n",
    "plt.plot(result.history['val_accuracy'],label=\"validation accuracy\",color=\"blue\")\n",
    "plt.plot(result.history['accuracy'],label=\"train accuracy\",color=\"green\")\n",
    "plt.title(\"Train_accuracy vs Val_accuracy\")\n",
    "plt.xlabel(\"Epochs\")\n",
    "plt.ylabel(\"Accuracy\")\n",
    "plt.legend()\n",
    "plt.show()"
   ]
  },
  {
   "cell_type": "code",
   "execution_count": 23,
   "id": "14c3efce",
   "metadata": {},
   "outputs": [],
   "source": [
    "#SGD\n",
    "#adam\n",
    "#rmsprop"
   ]
  },
  {
   "cell_type": "code",
   "execution_count": 25,
   "id": "3fca26be",
   "metadata": {},
   "outputs": [],
   "source": [
    "import numpy as np\n",
    "from PIL import Image\n",
    "import matplotlib.pyplot as plt\n",
    "\n",
    "# CIFAR-10 class names\n",
    "class_names = ['airplane', 'automobile', 'bird', 'cat', 'deer', \n",
    "               'dog', 'frog', 'horse', 'ship', 'truck']\n",
    "\n",
    "def predict_image(image_path, model):\n",
    "    \"\"\"\n",
    "    Predict the class of an input image using the trained model\n",
    "    \n",
    "    Args:\n",
    "        image_path: Path to the image file\n",
    "        model: Trained Keras model\n",
    "    \n",
    "    Returns:\n",
    "        Predicted class name and confidence\n",
    "    \"\"\"\n",
    "    # Load and preprocess the image\n",
    "    img = Image.open(image_path)\n",
    "    \n",
    "    # Resize to 32x32 (CIFAR-10 input size)\n",
    "    img = img.resize((32, 32))\n",
    "    \n",
    "    # Convert to numpy array and normalize\n",
    "    img_array = np.array(img)\n",
    "    img_array = img_array.astype('float32') / 255.0\n",
    "    \n",
    "    # If image is grayscale, convert to RGB\n",
    "    if len(img_array.shape) == 2:\n",
    "        img_array = np.stack([img_array]*3, axis=-1)\n",
    "    # If image has alpha channel, remove it\n",
    "    elif img_array.shape[2] == 4:\n",
    "        img_array = img_array[:, :, :3]\n",
    "    \n",
    "    # Add batch dimension\n",
    "    img_array = np.expand_dims(img_array, axis=0)\n",
    "    \n",
    "    # Make prediction\n",
    "    predictions = model.predict(img_array)\n",
    "    predicted_class = np.argmax(predictions[0])\n",
    "    confidence = np.max(predictions[0])\n",
    "    \n",
    "    # Display the image\n",
    "    plt.figure(figsize=(6, 6))\n",
    "    plt.imshow(img)\n",
    "    plt.title(f'Predicted: {class_names[predicted_class]} ({confidence:.2f})')\n",
    "    plt.axis('off')\n",
    "    plt.show()\n",
    "    \n",
    "    return class_names[predicted_class], confidence\n",
    "\n",
    "# Example usage - you need to provide actual values:\n",
    "# Replace 'path_to_your_image.jpg' with actual image path\n",
    "# Replace 'model' with your trained model (model or model_3)\n",
    "\n",
    "# For example, if you want to test with one of your trained models:\n",
    "# predicted_class, confidence = predict_image('your_image.jpg', model_3)\n",
    "# print(f\"Predicted class: {predicted_class} with confidence: {confidence:.2f}\")"
   ]
  },
  {
   "cell_type": "code",
   "execution_count": 27,
   "id": "89af4834",
   "metadata": {},
   "outputs": [
    {
     "name": "stdout",
     "output_type": "stream",
     "text": [
      "\u001b[1m1/1\u001b[0m \u001b[32m━━━━━━━━━━━━━━━━━━━━\u001b[0m\u001b[37m\u001b[0m \u001b[1m0s\u001b[0m 108ms/step\n"
     ]
    },
    {
     "data": {
      "image/png": "[encoded data removed]",
      "text/plain": [
       "<Figure size 600x600 with 1 Axes>"
      ]
     },
     "metadata": {},
     "output_type": "display_data"
    },
    {
     "name": "stdout",
     "output_type": "stream",
     "text": [
      "🎯 Predicted class: dog\n",
      "📊 Confidence: 0.3049\n"
     ]
    }
   ],
   "source": [
    "image_path = \"image.png\"\n",
    "predicted_class, confidence = predict_image(image_path, model_3)\n",
    "print(f\"🎯 Predicted class: {predicted_class}\")\n",
    "print(f\"📊 Confidence: {confidence:.4f}\")"
   ]
  }
 ],
 "metadata": {
  "kernelspec": {
   "display_name": "venv",
   "language": "python",
   "name": "python3"
  },
  "language_info": {
   "codemirror_mode": {
    "name": "ipython",
    "version": 3
   },
   "file_extension": ".py",
   "mimetype": "text/x-python",
   "name": "python",
   "nbconvert_exporter": "python",
   "pygments_lexer": "ipython3",
   "version": "3.10.11"
  }
 },
 "nbformat": 4,
 "nbformat_minor": 5
}
